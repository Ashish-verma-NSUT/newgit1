{
 "cells": [
  {
   "cell_type": "code",
   "execution_count": 12,
   "id": "60d8970d",
   "metadata": {},
   "outputs": [],
   "source": [
    "from sklearn import datasets\n",
    "import pandas as pd\n",
    "import numpy as np"
   ]
  },
  {
   "cell_type": "code",
   "execution_count": 13,
   "id": "2f2aac31",
   "metadata": {},
   "outputs": [
    {
     "data": {
      "text/plain": [
       "(506, 13)"
      ]
     },
     "execution_count": 13,
     "metadata": {},
     "output_type": "execute_result"
    }
   ],
   "source": [
    "boston = datasets.load_boston()\n",
    "x = boston.data\n",
    "\n",
    "y = boston.target\n",
    "x.shape\n"
   ]
  },
  {
   "cell_type": "code",
   "execution_count": 14,
   "id": "78c4cd23",
   "metadata": {},
   "outputs": [
    {
     "data": {
      "text/plain": [
       "pandas.core.indexes.base.Index"
      ]
     },
     "execution_count": 14,
     "metadata": {},
     "output_type": "execute_result"
    }
   ],
   "source": [
    "df = pd.DataFrame(x)\n",
    "df.columns = boston.feature_names\n",
    "r = boston.feature_names\n",
    "\n",
    "df[\"AGE_AGE\"] = df.AGE**2\n",
    "df[\"CRIM_CRIM\"] = df.CRIM**2\n",
    "df[\"INDUS_INDUS\"] = df.INDUS**2\n",
    "df[\"CHAS_CHAS\"] = df.CHAS**2\n",
    "df[\"NOX_NOX\"] = df.NOX**2\n",
    "df[\"RM_RM\"] = df.RM**2\n",
    "df[\"DIS_DIS\"] = df.DIS**2\n",
    "df[\"RAD_RAD\"] = df.RAD**2\n",
    "df[\"TAX_TAX\"] = df.TAX**2\n",
    "df[\"PTRATIO_P\"] = df.PTRATIO**2\n",
    "df[\"B_B\"] = df.B**2\n",
    "df[\"LSTAT_L\"] = df.LSTAT**2\n",
    "\n",
    "x2 = df.values\n",
    "type(df.columns)\n",
    "\n"
   ]
  },
  {
   "cell_type": "code",
   "execution_count": 15,
   "id": "b496275d",
   "metadata": {},
   "outputs": [],
   "source": [
    "from sklearn import model_selection\n",
    "x_train, x_test, y_train, y_test = model_selection.train_test_split(x,y, random_state = 0)\n",
    "x2_train, x2_test, y2_train, y2_test = model_selection.train_test_split(x2,y, random_state = 0)\n",
    "\n"
   ]
  },
  {
   "cell_type": "code",
   "execution_count": 16,
   "id": "5a1d5398",
   "metadata": {},
   "outputs": [],
   "source": [
    "from sklearn.linear_model import LinearRegression\n",
    "alg1 = LinearRegression();\n",
    "alg2 = LinearRegression();\n"
   ]
  },
  {
   "cell_type": "code",
   "execution_count": 17,
   "id": "c0ea0f0e",
   "metadata": {},
   "outputs": [
    {
     "data": {
      "text/plain": [
       "LinearRegression()"
      ]
     },
     "execution_count": 17,
     "metadata": {},
     "output_type": "execute_result"
    }
   ],
   "source": [
    "alg1.fit(x_train, y_train)\n",
    "alg2.fit(x2_train, y2_train)\n"
   ]
  },
  {
   "cell_type": "code",
   "execution_count": 18,
   "id": "3e89254b",
   "metadata": {},
   "outputs": [
    {
     "name": "stdout",
     "output_type": "stream",
     "text": [
      "Train Score 0.7697699488741149\n",
      "Test Score 0.6354638433202114\n",
      "Train2 Score 0.8562871704761896\n",
      "Test2 Score 0.7257151731991622\n"
     ]
    }
   ],
   "source": [
    "y_predict = alg1.predict(x_test)\n",
    "\n",
    "train_score = alg1.score(x_train, y_train)\n",
    "test_score = alg1.score(x_test, y_test)\n",
    "print(\"Train Score\", train_score)\n",
    "print(\"Test Score\", test_score)\n",
    "\n",
    "y2_predict = alg2.predict(x2_test)\n",
    "train2_score = alg2.score(x2_train, y2_train)\n",
    "test2_score = alg2.score(x2_test, y2_test)\n",
    "print(\"Train2 Score\", train2_score)\n",
    "print(\"Test2 Score\", test2_score)\n"
   ]
  },
  {
   "cell_type": "code",
   "execution_count": 19,
   "id": "831cdf1b",
   "metadata": {},
   "outputs": [],
   "source": [
    "import matplotlib.pyplot as plt"
   ]
  },
  {
   "cell_type": "code",
   "execution_count": 20,
   "id": "abe33e0b",
   "metadata": {},
   "outputs": [
    {
     "data": {
      "text/plain": [
       "(0.0, 40.0, 0.0, 40.0)"
      ]
     },
     "execution_count": 20,
     "metadata": {},
     "output_type": "execute_result"
    },
    {
     "data": {
      "image/png": "[encoded data removed]",
      "text/plain": [
       "<Figure size 432x288 with 1 Axes>"
      ]
     },
     "metadata": {
      "needs_background": "light"
     },
     "output_type": "display_data"
    }
   ],
   "source": [
    "y_predict.shape\n",
    "y_test.shape\n",
    "plt.scatter(y_test, y_predict, color = 'blue')\n",
    "plt.scatter(y_test, y2_predict, color = 'red')\n",
    "x = np.arange(0,45,1)\n",
    "plt.plot(x,x,'g--')\n",
    "plt.axis([0,40,0,40])\n",
    "\n"
   ]
  },
  {
   "cell_type": "code",
   "execution_count": null,
   "id": "1945a2ce",
   "metadata": {},
   "outputs": [],
   "source": []
  }
 ],
 "metadata": {
  "kernelspec": {
   "display_name": "Python 3 (ipykernel)",
   "language": "python",
   "name": "python3"
  },
  "language_info": {
   "codemirror_mode": {
    "name": "ipython",
    "version": 3
   },
   "file_extension": ".py",
   "mimetype": "text/x-python",
   "name": "python",
   "nbconvert_exporter": "python",
   "pygments_lexer": "ipython3",
   "version": "3.9.1"
  }
 },
 "nbformat": 4,
 "nbformat_minor": 5
}
